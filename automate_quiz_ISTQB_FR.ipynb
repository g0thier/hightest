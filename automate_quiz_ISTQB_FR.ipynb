{
 "cells": [
  {
   "cell_type": "code",
   "execution_count": 1,
   "metadata": {},
   "outputs": [],
   "source": [
    "import time\n",
    "import json\n",
    "import re\n",
    "\n",
    "begin_time_start = time.time()\n",
    "\n",
    "import yopmail\n",
    "import reporting\n",
    "\n",
    "from selenium import webdriver\n",
    "from selenium.webdriver.common.by import By\n",
    "from selenium.webdriver.support.ui import WebDriverWait\n",
    "from selenium.webdriver.support import expected_conditions as EC\n",
    "from selenium.webdriver.chrome.options import Options"
   ]
  },
  {
   "cell_type": "markdown",
   "metadata": {},
   "source": [
    "## Generate analysis report"
   ]
  },
  {
   "cell_type": "code",
   "execution_count": 2,
   "metadata": {},
   "outputs": [],
   "source": [
    "document_report = {\n",
    "    'generate_email': None,\n",
    "    'process_index': None,\n",
    "    'process_toolbox': None,\n",
    "    'switch_tag': None,\n",
    "    'process_test': None,\n",
    "    'submit_test': None,\n",
    "    'submit_mail': None,\n",
    "    'content_mail': None,\n",
    "    'result_test': None }"
   ]
  },
  {
   "cell_type": "markdown",
   "metadata": {},
   "source": [
    "## Generate Yopmail email"
   ]
  },
  {
   "cell_type": "code",
   "execution_count": 3,
   "metadata": {},
   "outputs": [],
   "source": [
    "email = yopmail.create_random_email()\n",
    "\n",
    "document_report['generate_email'] = email"
   ]
  },
  {
   "cell_type": "markdown",
   "metadata": {},
   "source": [
    "## Log in to Hightest"
   ]
  },
  {
   "cell_type": "code",
   "execution_count": 4,
   "metadata": {},
   "outputs": [],
   "source": [
    "time_start = time.time()\n",
    "try:\n",
    "    options = Options()\n",
    "    options.add_argument(f\"--window-size={1400},{800}\")\n",
    "\n",
    "    driver = webdriver.Chrome(options=options)\n",
    "    driver.get(\"https://hightest.nc\")\n",
    "\n",
    "    # Wait and click on Toolbox.\n",
    "    toolbox_link = WebDriverWait(driver, 10).until(EC.presence_of_element_located((By.XPATH, '//a[@title=\"Toolbox\"]')))\n",
    "    toolbox_link.click()\n",
    "\n",
    "    document_report['process_index'] = reporting.success_message(time_start)\n",
    "except:\n",
    "    document_report['process_index'] = reporting.error_message(time_start, 'impossible to connect to hightest.nc.')\n",
    "\n",
    "## CHANGE PAGE => https://hightest.nc/toolbox/ ##\n",
    "\n",
    "time_start = time.time()\n",
    "try:\n",
    "    # Move to this element.\n",
    "    ISTQB_TITLE_PATH = '//*[@id=\"page\"]/div[2]/div/section/article/div[2]/div/div[1]/div'\n",
    "    button_french = WebDriverWait(driver, 10).until(EC.presence_of_element_located((By.XPATH, ISTQB_TITLE_PATH)))\n",
    "    driver.execute_script(\"arguments[0].scrollIntoView();\", button_french)\n",
    "\n",
    "    # Wait for the element to be clickable.\n",
    "    FRENCH_BUTTON_PATH = '//*[@id=\"page\"]/div[2]/div/section/article/div[2]/div/div[1]/div/div[2]/div/a[1]'\n",
    "    toolbox_link = WebDriverWait(driver, 10).until(EC.element_to_be_clickable((By.XPATH, FRENCH_BUTTON_PATH)))\n",
    "    toolbox_link.click()\n",
    "\n",
    "    document_report['process_toolbox'] = reporting.success_message(time_start)\n",
    "except:\n",
    "    document_report['process_toolbox'] = reporting.error_message(time_start, 'impossible to access the test, check XPath of \"Français\" button.')\n",
    "\n",
    "\n",
    "## CHANGE PAGE => https://hightest.nc/ressources/test-istqb.php ##\n",
    "\n",
    "\n",
    "time_start = time.time()\n",
    "try:\n",
    "    if driver.current_url != 'https://hightest.nc/ressources/test-istqb.php':\n",
    "        onglets = driver.window_handles\n",
    "        driver.switch_to.window(onglets[1])\n",
    "\n",
    "    # Wait submit appear.\n",
    "    submit_button = WebDriverWait(driver, 20).until(EC.presence_of_element_located((By.XPATH, '//*[@id=\"submit\"]')))\n",
    "\n",
    "    document_report['switch_tag'] = reporting.success_message(time_start)\n",
    "except:\n",
    "    document_report['switch_tag'] = reporting.error_message(time_start, 'impossible to access to correct tab, check window_handles process.')\n",
    "\n",
    "time_start = time.time()\n",
    "try:\n",
    "    dict_answers = {\n",
    "        1: 1, 2: 2, 3: 1, 4: 2, 5: 2,\n",
    "        6: 3, 7: 2, 8: 4, 9: 1, 10: 3,\n",
    "        11: 4, 12: 2, 13: 3, 14: 2, 15: 4,\n",
    "        16: 3, 17: 3, 18: 1, 19: 2, 20: 2\n",
    "    }\n",
    "\n",
    "    for question in dict_answers:\n",
    "        answer = dict_answers[question]\n",
    "\n",
    "        # Paths.\n",
    "        MULTI_answerS_PATH = f'//*[@id=\"main_content\"]/form/div[{question}]'\n",
    "        RADIO_BUTTON_PATH = f'//*[@id=\"main_content\"]/form/div[{question}]/input[{answer}]'\n",
    "\n",
    "        # Move to multiple answers.\n",
    "        question_element = WebDriverWait(driver, 10).until(EC.presence_of_element_located((By.XPATH, MULTI_answerS_PATH)))\n",
    "        driver.execute_script(\"arguments[0].scrollIntoView();\", question_element)\n",
    "\n",
    "        # Click the radio button.\n",
    "        radio_button = WebDriverWait(driver, 10).until(EC.element_to_be_clickable((By.XPATH, RADIO_BUTTON_PATH)))\n",
    "        radio_button.click()\n",
    "\n",
    "    document_report['process_test'] = reporting.success_message(time_start)\n",
    "except:\n",
    "    document_report['process_test'] = reporting.error_message(time_start, 'impossible to complete the form, check XPaths of radios.')\n",
    "\n",
    "time_start = time.time()\n",
    "try:\n",
    "    # Click the radio button.\n",
    "    SUBMIT_PATH = f'//*[@id=\"submit\"]' \n",
    "    radio_button = WebDriverWait(driver, 10).until(EC.element_to_be_clickable((By.XPATH, SUBMIT_PATH)))\n",
    "    radio_button.click()\n",
    "\n",
    "    document_report['submit_test'] = reporting.success_message(time_start)\n",
    "except:\n",
    "    document_report['submit_test'] = reporting.error_message(time_start, 'impossible to submit the form, check XPath of \"Terminé !\".')\n",
    "\n",
    "\n",
    "## CHANGE PAGE => https://hightest.nc/ressources/reponses-test-istqb.php ##\n",
    "\n",
    "time_start = time.time()\n",
    "try:\n",
    "    TEXT_FIELD_PATH = '//*[@id=\"email\"]'\n",
    "    SUBMIT_MAIL_PATH = '//*[@id=\"submitMail\"]'\n",
    "\n",
    "    text_field = driver.find_element(By.XPATH, TEXT_FIELD_PATH)\n",
    "    text_field.send_keys(email['generated_email'])\n",
    "\n",
    "    submit_mail = driver.find_element(By.XPATH, SUBMIT_MAIL_PATH)\n",
    "    submit_mail.click()\n",
    "\n",
    "    driver.quit()\n",
    "\n",
    "    document_report['submit_mail'] = reporting.success_message(time_start)\n",
    "except:\n",
    "    document_report['submit_mail'] = reporting.error_message(time_start, 'impossible to submit the mail, check XPaths in reponses-test page.')\n",
    "\n",
    "# Let the server send the mail. \n",
    "time.sleep(2)"
   ]
  },
  {
   "cell_type": "markdown",
   "metadata": {},
   "source": [
    "## Read Yopmail email"
   ]
  },
  {
   "cell_type": "code",
   "execution_count": 5,
   "metadata": {},
   "outputs": [],
   "source": [
    "report = yopmail.last_message_of(email['identifier_email'])\n",
    "\n",
    "document_report['content_mail'] = report\n",
    "\n",
    "try:\n",
    "    # Final result test.\n",
    "    good_answer = int(re.search(r'répondu à (\\d+) question\\(s\\)', report['content']).group(1))\n",
    "    percentage_success = int(re.search(r'soit (\\d+) % de réussite.', report['content']).group(1))\n",
    "\n",
    "    if percentage_success == 100:\n",
    "        status_test = 'success'\n",
    "    else:\n",
    "        status_test = 'some bad answer(s)'\n",
    "\n",
    "    document_report['result_test'] = {'status': 'success',\n",
    "                                      'status_test': status_test,\n",
    "                                      'good_answer': good_answer,\n",
    "                                      'percentage_success': percentage_success,\n",
    "                                      'full_execution_time': reporting.execution_time(begin_time_start)}\n",
    "except:\n",
    "    document_report['result_test'] = reporting.error_message(time_start, 'impossible to extract results, check regex.')"
   ]
  },
  {
   "cell_type": "markdown",
   "metadata": {},
   "source": [
    "## Save the JSON data to a file"
   ]
  },
  {
   "cell_type": "code",
   "execution_count": 6,
   "metadata": {},
   "outputs": [],
   "source": [
    "json_data = json.dumps(document_report, indent=4, ensure_ascii=False)\n",
    "\n",
    "with open('report_quiz_ISTQB_FR.json', 'w', encoding='utf-8') as json_file:\n",
    "    json_file.write(json_data)"
   ]
  }
 ],
 "metadata": {
  "kernelspec": {
   "display_name": "Python 3",
   "language": "python",
   "name": "python3"
  },
  "language_info": {
   "codemirror_mode": {
    "name": "ipython",
    "version": 3
   },
   "file_extension": ".py",
   "mimetype": "text/x-python",
   "name": "python",
   "nbconvert_exporter": "python",
   "pygments_lexer": "ipython3",
   "version": "3.11.6"
  }
 },
 "nbformat": 4,
 "nbformat_minor": 2
}
