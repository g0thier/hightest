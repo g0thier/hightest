{
 "cells": [
  {
   "cell_type": "markdown",
   "metadata": {},
   "source": [
    "## Création mail Yopmail"
   ]
  },
  {
   "cell_type": "code",
   "execution_count": 55,
   "metadata": {},
   "outputs": [
    {
     "name": "stdout",
     "output_type": "stream",
     "text": [
      "wauheribauci-1605@yopmail.com\n"
     ]
    }
   ],
   "source": [
    "import yopmail\n",
    "\n",
    "email = yopmail.create_random_email()\n",
    "\n",
    "if email['status'] == 'success':\n",
    "    generated_email = email['generated_email']\n",
    "    print(generated_email)\n",
    "else:\n",
    "    print(email['error_message'])\n",
    "    print(email['execution_time'])"
   ]
  },
  {
   "cell_type": "markdown",
   "metadata": {},
   "source": [
    "## Connexion Hightest"
   ]
  },
  {
   "cell_type": "code",
   "execution_count": 81,
   "metadata": {},
   "outputs": [],
   "source": [
    "from selenium import webdriver\n",
    "from selenium.webdriver.common.by import By\n",
    "from selenium.webdriver.common.keys import Keys\n",
    "from selenium.webdriver.support.ui import WebDriverWait\n",
    "from selenium.webdriver.support import expected_conditions as EC\n",
    "from selenium.webdriver.chrome.options import Options\n",
    "\n",
    "options = Options()\n",
    "options.add_argument(f\"--window-size={1400},{800}\")\n",
    "\n",
    "driver = webdriver.Chrome(options=options)\n",
    "driver.get(\"https://hightest.nc\")\n",
    "\n",
    "# Attendre et cliquer sur Toolbox\n",
    "toolbox_link = WebDriverWait(driver, 10).until(EC.presence_of_element_located((By.XPATH, '//a[@title=\"Toolbox\"]')))\n",
    "toolbox_link.click()\n",
    "\n",
    "\n",
    "## CHANGEMENT DE PAGE => https://hightest.nc/toolbox/ ##\n",
    "\n",
    "# Move to this element \n",
    "ISTQB_TITLE_PATH = '//*[@id=\"page\"]/div[2]/div/section/article/div[2]/div/div[1]/div'\n",
    "button_french = WebDriverWait(driver, 10).until(EC.presence_of_element_located((By.XPATH, ISTQB_TITLE_PATH)))\n",
    "driver.execute_script(\"arguments[0].scrollIntoView();\", button_french)\n",
    "\n",
    "# Wait for the element to be clickable\n",
    "FRENCH_BUTTON_PATH = '//*[@id=\"page\"]/div[2]/div/section/article/div[2]/div/div[1]/div/div[2]/div/a[1]'\n",
    "toolbox_link = WebDriverWait(driver, 10).until(EC.element_to_be_clickable((By.XPATH, FRENCH_BUTTON_PATH)))\n",
    "toolbox_link.click()\n",
    "\n",
    "\n",
    "## CHANGEMENT DE PAGE => https://hightest.nc/ressources/test-istqb.php ##\n",
    "\n",
    "\n",
    "if driver.current_url != 'https://hightest.nc/ressources/test-istqb.php':\n",
    "    onglets = driver.window_handles\n",
    "    driver.switch_to.window(onglets[1])\n",
    "\n",
    "# Wait submit appear\n",
    "submit_button = WebDriverWait(driver, 20).until(EC.presence_of_element_located((By.XPATH, '//*[@id=\"submit\"]')))\n",
    "\n",
    "dict_anwsers = {\n",
    "    1: 1, 2: 2, 3: 1, 4: 2, 5: 2, \n",
    "    6: 3, 7: 2, 8: 3, 9: 2, 10: 3, \n",
    "    11: 4, 12: 2, 13: 3, 14: 2, 15: 4, \n",
    "    16: 2, 17: 3, 18: 1, 19: 3, 20: 3\n",
    "}\n",
    "\n",
    "for question in dict_anwsers:\n",
    "    anwser = dict_anwsers[question]\n",
    "\n",
    "    # Paths\n",
    "    MULTI_ANWSERS_PATH = f'//*[@id=\"main_content\"]/form/div[{question}]'\n",
    "    RADIO_BUTTON_PATH = f'//*[@id=\"main_content\"]/form/div[{question}]/input[{anwser}]'\n",
    "\n",
    "    # Move to multiple answers.\n",
    "    question_element = WebDriverWait(driver, 10).until(EC.presence_of_element_located((By.XPATH, MULTI_ANWSERS_PATH)))\n",
    "    driver.execute_script(\"arguments[0].scrollIntoView();\", question_element)\n",
    "\n",
    "    # Click the radio button.\n",
    "    radio_button = WebDriverWait(driver, 10).until(EC.element_to_be_clickable((By.XPATH, RADIO_BUTTON_PATH)))\n",
    "    radio_button.click()\n",
    "\n",
    "# Click the radio button.\n",
    "SUBMIT_PATH = f'//*[@id=\"submit\"]' \n",
    "radio_button = WebDriverWait(driver, 10).until(EC.element_to_be_clickable((By.XPATH, SUBMIT_PATH)))\n",
    "radio_button.click()\n",
    "\n",
    "\n",
    "## CHANGEMENT DE PAGE => https://hightest.nc/ressources/reponses-test-istqb.php ##\n",
    "\n"
   ]
  },
  {
   "cell_type": "markdown",
   "metadata": {},
   "source": [
    "## Lecture mail Yopmail"
   ]
  },
  {
   "cell_type": "code",
   "execution_count": null,
   "metadata": {},
   "outputs": [
    {
     "name": "stdout",
     "output_type": "stream",
     "text": [
      "Corp de mail \n",
      "seconde ligne de mail \n",
      "troisième ligne de mail \n",
      "truc bidule \n"
     ]
    }
   ],
   "source": [
    "# report = yopmail.last_message_of(email['identifier_email'])\n",
    "\n",
    "report = yopmail.last_message_of('zeugreretega-3236')\n",
    "\n",
    "if report['status'] == 'success':\n",
    "    content_report = report['content']\n",
    "    print(content_report)\n",
    "else:\n",
    "    print(report['error_message'])\n",
    "    print(report['execution_time'])"
   ]
  }
 ],
 "metadata": {
  "kernelspec": {
   "display_name": "Python 3",
   "language": "python",
   "name": "python3"
  },
  "language_info": {
   "codemirror_mode": {
    "name": "ipython",
    "version": 3
   },
   "file_extension": ".py",
   "mimetype": "text/x-python",
   "name": "python",
   "nbconvert_exporter": "python",
   "pygments_lexer": "ipython3",
   "version": "3.11.6"
  }
 },
 "nbformat": 4,
 "nbformat_minor": 2
}
