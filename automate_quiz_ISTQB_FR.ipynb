{
 "cells": [
  {
   "cell_type": "markdown",
   "metadata": {},
   "source": [
    "## Création mail Yopmail"
   ]
  },
  {
   "cell_type": "code",
   "execution_count": 1,
   "metadata": {},
   "outputs": [
    {
     "name": "stdout",
     "output_type": "stream",
     "text": [
      "grojatemmomi-2696@yopmail.com\n"
     ]
    }
   ],
   "source": [
    "import yopmail\n",
    "\n",
    "email = yopmail.create_random_email()\n",
    "\n",
    "if email['status'] == 'success':\n",
    "    generated_email = email['generated_email']\n",
    "    print(generated_email)\n",
    "else:\n",
    "    print(email['error_message'])\n",
    "    print(email['execution_time'])"
   ]
  },
  {
   "cell_type": "markdown",
   "metadata": {},
   "source": [
    "## Connexion Hightest"
   ]
  },
  {
   "cell_type": "code",
   "execution_count": null,
   "metadata": {},
   "outputs": [],
   "source": []
  },
  {
   "cell_type": "markdown",
   "metadata": {},
   "source": [
    "## Lecture mail Yopmail"
   ]
  },
  {
   "cell_type": "code",
   "execution_count": 2,
   "metadata": {},
   "outputs": [
    {
     "name": "stdout",
     "output_type": "stream",
     "text": [
      "Corp de mail \n",
      "seconde ligne de mail \n",
      "troisième ligne de mail \n",
      "truc bidule \n"
     ]
    }
   ],
   "source": [
    "# report = yopmail.last_message_of(email['identifier_email'])\n",
    "\n",
    "report = yopmail.last_message_of('zeugreretega-3236')\n",
    "\n",
    "if report['status'] == 'success':\n",
    "    content_report = report['content']\n",
    "    print(content_report)\n",
    "else:\n",
    "    print(report['error_message'])\n",
    "    print(report['execution_time'])"
   ]
  }
 ],
 "metadata": {
  "kernelspec": {
   "display_name": "Python 3",
   "language": "python",
   "name": "python3"
  },
  "language_info": {
   "codemirror_mode": {
    "name": "ipython",
    "version": 3
   },
   "file_extension": ".py",
   "mimetype": "text/x-python",
   "name": "python",
   "nbconvert_exporter": "python",
   "pygments_lexer": "ipython3",
   "version": "3.11.6"
  }
 },
 "nbformat": 4,
 "nbformat_minor": 2
}
