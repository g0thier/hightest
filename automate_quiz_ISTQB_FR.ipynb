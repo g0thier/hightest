{
 "cells": [
  {
   "cell_type": "markdown",
   "metadata": {},
   "source": [
    "## Création mail Yopmail"
   ]
  },
  {
   "cell_type": "code",
   "execution_count": 1,
   "metadata": {},
   "outputs": [
    {
     "name": "stdout",
     "output_type": "stream",
     "text": [
      "braddeiwaulubo-5739@yopmail.com\n"
     ]
    }
   ],
   "source": [
    "import yopmail\n",
    "\n",
    "email = yopmail.create_random_email()\n",
    "\n",
    "if email['status'] == 'success':\n",
    "    generated_email = email['generated_email']\n",
    "\n",
    "print(generated_email)"
   ]
  },
  {
   "cell_type": "markdown",
   "metadata": {},
   "source": [
    "## Connexion Hightest"
   ]
  },
  {
   "cell_type": "code",
   "execution_count": null,
   "metadata": {},
   "outputs": [],
   "source": []
  },
  {
   "cell_type": "markdown",
   "metadata": {},
   "source": [
    "## Lecture mail Yopmail"
   ]
  },
  {
   "cell_type": "code",
   "execution_count": 3,
   "metadata": {},
   "outputs": [
    {
     "name": "stdout",
     "output_type": "stream",
     "text": [
      "[{'domain': '.yopmail.com', 'expiry': 1731418403, 'httpOnly': False, 'name': 'compte', 'path': '/', 'sameSite': 'Lax', 'secure': False, 'value': 'braddeiwaulubo-5739'}, {'domain': '.yopmail.com', 'expiry': 1734010402, 'httpOnly': False, 'name': '__gpi', 'path': '/', 'sameSite': 'Lax', 'secure': False, 'value': 'UID=00000ccb9bc94e20:T=1700314402:RT=1700314402:S=ALNI_MYzrehMQfB49lPPTqFsKutbcE0lHg'}, {'domain': '.yopmail.com', 'expiry': 1734010402, 'httpOnly': False, 'name': '__gads', 'path': '/', 'sameSite': 'Lax', 'secure': False, 'value': 'ID=b4ac8d3733f3f2e3:T=1700314402:RT=1700314402:S=ALNI_MZqKqhvxEUWofLft1oscreNDlT1pA'}, {'domain': '.yopmail.com', 'expiry': 1700400803, 'httpOnly': False, 'name': '_gid', 'path': '/', 'sameSite': 'Lax', 'secure': False, 'value': 'GA1.2.1190204240.1700314402'}, {'domain': '.yopmail.com', 'httpOnly': False, 'name': 'ytime', 'path': '/', 'sameSite': 'Lax', 'secure': False, 'value': '14:33'}, {'domain': '.yopmail.com', 'httpOnly': False, 'name': 'yses', 'path': '/', 'sameSite': 'Lax', 'secure': False, 'value': '73gF1lwQ+8HLz5537PKmiphZZeDR2vzEfhTXkcbRiG5OM60UWdQH1lEt7rDtcjTq'}, {'domain': '.yopmail.com', 'expiry': 1700314461, 'httpOnly': False, 'name': '_gat', 'path': '/', 'sameSite': 'Lax', 'secure': False, 'value': '1'}, {'domain': '.yopmail.com', 'expiry': 1734874403, 'httpOnly': False, 'name': '_ga', 'path': '/', 'sameSite': 'Lax', 'secure': False, 'value': 'GA1.2.642048403.1700314402'}, {'domain': '.yopmail.com', 'expiry': 1731418401, 'httpOnly': False, 'name': 'ycons', 'path': '/', 'sameSite': 'Lax', 'secure': False, 'value': 'KnNgHOKpwyeItrxIjzOpPPRAXIajdtBm/qqCkHRP+yk'}, {'domain': '.yopmail.com', 'expiry': 1731418403, 'httpOnly': False, 'name': 'ywm', 'path': '/', 'sameSite': 'Lax', 'secure': False, 'value': 'braddeiwaulubo-5739'}, {'domain': '.yopmail.com', 'expiry': 1731418403, 'httpOnly': False, 'name': 'yc', 'path': '/', 'sameSite': 'Lax', 'secure': False, 'value': 'SAwpjZwtjAGV0AGt3AwtkAQp'}]\n"
     ]
    }
   ],
   "source": [
    "cookies = yopmail.get_cookies_of(generated_email)\n",
    "\n",
    "if cookies['status'] == 'success':\n",
    "    generated_cookies = cookies['generated_cookies']\n",
    "\n",
    "print(generated_cookies)\n",
    "\n",
    "## Wait the end of redirection.\n",
    "#wait = WebDriverWait(driver, 10)\n",
    "#wait.until(EC.url_to_be(\"https://yopmail.com/fr/wm\"))\n",
    "\n",
    "\n",
    "# content = yopmail.last_message_of(email['generated_email'])\n"
   ]
  },
  {
   "cell_type": "code",
   "execution_count": null,
   "metadata": {},
   "outputs": [],
   "source": [
    "\n",
    "\n",
    "#############################\n",
    "##\n",
    "##  Note : à lancer sans scrapeur, Il y a un test capcha integré à la page de résultat. Apparament les infos sont envoyé par cookies dans value. \n",
    "##\n",
    "#############################"
   ]
  },
  {
   "cell_type": "code",
   "execution_count": null,
   "metadata": {},
   "outputs": [],
   "source": [
    "[{'domain': '.yopmail.com', 'expiry': 1731415564, 'httpOnly': False, 'name': 'compte', 'path': '/', 'sameSite': 'Lax', 'secure': False, 'value': 'zeugreretega-3236'}, \n",
    "{'domain': '.yopmail.com', 'expiry': 1734007562, 'httpOnly': False, 'name': '__gpi', 'path': '/', 'sameSite': 'Lax', 'secure': False, 'value': 'UID=00000ccb9796f33d:T=1700311562:RT=1700311562:S=ALNI_MYPlxcrY2RyFPKElLd1n1oH4-xHjQ'}, \n",
    "{'domain': '.yopmail.com', 'expiry': 1734007562, 'httpOnly': False, 'name': '__gads', 'path': '/', 'sameSite': 'Lax', 'secure': False, 'value': 'ID=5c5613305a85ad98:T=1700311562:RT=1700311562:S=ALNI_MZQBVOtdwhEqBKAt24uy7y7tUQcUA'}, \n",
    "{'domain': '.yopmail.com', 'expiry': 1700397964, 'httpOnly': False, 'name': '_gid', 'path': '/', 'sameSite': 'Lax', 'secure': False, 'value': 'GA1.2.122300493.1700311562'}, \n",
    "{'domain': '.yopmail.com', 'httpOnly': False, 'name': 'ytime', 'path': '/', 'sameSite': 'Lax', 'secure': False, 'value': '13:46'}, \n",
    "{'domain': '.yopmail.com', 'httpOnly': False, 'name': 'yses', 'path': '/', 'sameSite': 'Lax', 'secure': False, 'value': 'Otcm7RpKofn+WTSRghryOiWl/AOv+UnXYaz0kGiErVPGUKPPUXF10Puf3D6QZLqu'}, \n",
    "{'domain': '.yopmail.com', 'expiry': 1700311622, 'httpOnly': False, 'name': '_gat', 'path': '/', 'sameSite': 'Lax', 'secure': False, 'value': '1'}, \n",
    "{'domain': '.yopmail.com', 'expiry': 1734871564, 'httpOnly': False, 'name': '_ga', 'path': '/', 'sameSite': 'Lax', 'secure': False, 'value': 'GA1.2.1722061656.1700311562'}, \n",
    "{'domain': '.yopmail.com', 'expiry': 1731415561, 'httpOnly': False, 'name': 'ycons', 'path': '/', 'sameSite': 'Lax', 'secure': False, 'value': 'uHtK3uiadqaV+jOZbwldJJHEU/5otoD8g+qwIweyx/A'}, \n",
    "{'domain': '.yopmail.com', 'expiry': 1731415564, 'httpOnly': False, 'name': 'ywm', 'path': '/', 'sameSite': 'Lax', 'secure': False, 'value': 'zeugreretega-3236'}, \n",
    "{'domain': '.yopmail.com', 'expiry': 1731415564, 'httpOnly': False, 'name': 'yc', 'path': '/', 'sameSite': 'Lax', 'secure': False, 'value': 'BAwx0BGx4ZQp5AGD5AGHlZwZ'}]\n",
    "\n",
    "\n",
    "# Le premier dictionnaire dans la liste de cookies est certainement le compte à ouvrir, le reste sert de tracker pour Google Analytics. "
   ]
  },
  {
   "cell_type": "code",
   "execution_count": null,
   "metadata": {},
   "outputs": [],
   "source": [
    "'''\n",
    "iframe = driver.find_element(By.CLASS_NAME, \"mday\")\n",
    "driver.switch_to.frame(iframe)\n",
    "\n",
    "# Select the last email.\n",
    "today = driver.find_element(By.CLASS_NAME, 'mday')\n",
    "print(today)\n",
    "\n",
    "first_mail = driver.find_element(By.XPATH, '/html/body/div[2]/div[2]/button')\n",
    "print(first_mail)\n",
    "first_mail.click()\n",
    "'''"
   ]
  },
  {
   "cell_type": "code",
   "execution_count": null,
   "metadata": {},
   "outputs": [],
   "source": []
  }
 ],
 "metadata": {
  "kernelspec": {
   "display_name": "Python 3",
   "language": "python",
   "name": "python3"
  },
  "language_info": {
   "codemirror_mode": {
    "name": "ipython",
    "version": 3
   },
   "file_extension": ".py",
   "mimetype": "text/x-python",
   "name": "python",
   "nbconvert_exporter": "python",
   "pygments_lexer": "ipython3",
   "version": "3.11.6"
  }
 },
 "nbformat": 4,
 "nbformat_minor": 2
}
